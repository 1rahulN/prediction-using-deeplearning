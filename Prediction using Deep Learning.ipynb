{
 "cells": [
  {
   "cell_type": "code",
   "execution_count": 1,
   "id": "8c301093",
   "metadata": {},
   "outputs": [],
   "source": [
    "import numpy as np\n",
    "import seaborn as snb\n",
    "import matplotlib.pyplot as plt\n",
    "import warnings as wn\n",
    "wn.filterwarnings(\"ignore\")\n",
    "import pandas as pd"
   ]
  },
  {
   "cell_type": "code",
   "execution_count": 2,
   "id": "e22794d8",
   "metadata": {},
   "outputs": [
    {
     "data": {
      "text/html": [
       "<div>\n",
       "<style scoped>\n",
       "    .dataframe tbody tr th:only-of-type {\n",
       "        vertical-align: middle;\n",
       "    }\n",
       "\n",
       "    .dataframe tbody tr th {\n",
       "        vertical-align: top;\n",
       "    }\n",
       "\n",
       "    .dataframe thead th {\n",
       "        text-align: right;\n",
       "    }\n",
       "</style>\n",
       "<table border=\"1\" class=\"dataframe\">\n",
       "  <thead>\n",
       "    <tr style=\"text-align: right;\">\n",
       "      <th></th>\n",
       "      <th>mid</th>\n",
       "      <th>date</th>\n",
       "      <th>venue</th>\n",
       "      <th>bat_team</th>\n",
       "      <th>bowl_team</th>\n",
       "      <th>batsman</th>\n",
       "      <th>bowler</th>\n",
       "      <th>runs</th>\n",
       "      <th>wickets</th>\n",
       "      <th>overs</th>\n",
       "      <th>runs_last_5</th>\n",
       "      <th>wickets_last_5</th>\n",
       "      <th>striker</th>\n",
       "      <th>non-striker</th>\n",
       "      <th>total</th>\n",
       "    </tr>\n",
       "  </thead>\n",
       "  <tbody>\n",
       "    <tr>\n",
       "      <th>0</th>\n",
       "      <td>1</td>\n",
       "      <td>2008-04-18</td>\n",
       "      <td>M Chinnaswamy Stadium</td>\n",
       "      <td>Kolkata Knight Riders</td>\n",
       "      <td>Royal Challengers Bangalore</td>\n",
       "      <td>SC Ganguly</td>\n",
       "      <td>P Kumar</td>\n",
       "      <td>1</td>\n",
       "      <td>0</td>\n",
       "      <td>0.1</td>\n",
       "      <td>1</td>\n",
       "      <td>0</td>\n",
       "      <td>0</td>\n",
       "      <td>0</td>\n",
       "      <td>222</td>\n",
       "    </tr>\n",
       "    <tr>\n",
       "      <th>1</th>\n",
       "      <td>1</td>\n",
       "      <td>2008-04-18</td>\n",
       "      <td>M Chinnaswamy Stadium</td>\n",
       "      <td>Kolkata Knight Riders</td>\n",
       "      <td>Royal Challengers Bangalore</td>\n",
       "      <td>BB McCullum</td>\n",
       "      <td>P Kumar</td>\n",
       "      <td>1</td>\n",
       "      <td>0</td>\n",
       "      <td>0.2</td>\n",
       "      <td>1</td>\n",
       "      <td>0</td>\n",
       "      <td>0</td>\n",
       "      <td>0</td>\n",
       "      <td>222</td>\n",
       "    </tr>\n",
       "    <tr>\n",
       "      <th>2</th>\n",
       "      <td>1</td>\n",
       "      <td>2008-04-18</td>\n",
       "      <td>M Chinnaswamy Stadium</td>\n",
       "      <td>Kolkata Knight Riders</td>\n",
       "      <td>Royal Challengers Bangalore</td>\n",
       "      <td>BB McCullum</td>\n",
       "      <td>P Kumar</td>\n",
       "      <td>2</td>\n",
       "      <td>0</td>\n",
       "      <td>0.2</td>\n",
       "      <td>2</td>\n",
       "      <td>0</td>\n",
       "      <td>0</td>\n",
       "      <td>0</td>\n",
       "      <td>222</td>\n",
       "    </tr>\n",
       "    <tr>\n",
       "      <th>3</th>\n",
       "      <td>1</td>\n",
       "      <td>2008-04-18</td>\n",
       "      <td>M Chinnaswamy Stadium</td>\n",
       "      <td>Kolkata Knight Riders</td>\n",
       "      <td>Royal Challengers Bangalore</td>\n",
       "      <td>BB McCullum</td>\n",
       "      <td>P Kumar</td>\n",
       "      <td>2</td>\n",
       "      <td>0</td>\n",
       "      <td>0.3</td>\n",
       "      <td>2</td>\n",
       "      <td>0</td>\n",
       "      <td>0</td>\n",
       "      <td>0</td>\n",
       "      <td>222</td>\n",
       "    </tr>\n",
       "    <tr>\n",
       "      <th>4</th>\n",
       "      <td>1</td>\n",
       "      <td>2008-04-18</td>\n",
       "      <td>M Chinnaswamy Stadium</td>\n",
       "      <td>Kolkata Knight Riders</td>\n",
       "      <td>Royal Challengers Bangalore</td>\n",
       "      <td>BB McCullum</td>\n",
       "      <td>P Kumar</td>\n",
       "      <td>2</td>\n",
       "      <td>0</td>\n",
       "      <td>0.4</td>\n",
       "      <td>2</td>\n",
       "      <td>0</td>\n",
       "      <td>0</td>\n",
       "      <td>0</td>\n",
       "      <td>222</td>\n",
       "    </tr>\n",
       "    <tr>\n",
       "      <th>...</th>\n",
       "      <td>...</td>\n",
       "      <td>...</td>\n",
       "      <td>...</td>\n",
       "      <td>...</td>\n",
       "      <td>...</td>\n",
       "      <td>...</td>\n",
       "      <td>...</td>\n",
       "      <td>...</td>\n",
       "      <td>...</td>\n",
       "      <td>...</td>\n",
       "      <td>...</td>\n",
       "      <td>...</td>\n",
       "      <td>...</td>\n",
       "      <td>...</td>\n",
       "      <td>...</td>\n",
       "    </tr>\n",
       "    <tr>\n",
       "      <th>76009</th>\n",
       "      <td>617</td>\n",
       "      <td>2017-05-21</td>\n",
       "      <td>Rajiv Gandhi International Stadium, Uppal</td>\n",
       "      <td>Mumbai Indians</td>\n",
       "      <td>Rising Pune Supergiant</td>\n",
       "      <td>KH Pandya</td>\n",
       "      <td>DT Christian</td>\n",
       "      <td>121</td>\n",
       "      <td>7</td>\n",
       "      <td>19.2</td>\n",
       "      <td>40</td>\n",
       "      <td>0</td>\n",
       "      <td>40</td>\n",
       "      <td>12</td>\n",
       "      <td>129</td>\n",
       "    </tr>\n",
       "    <tr>\n",
       "      <th>76010</th>\n",
       "      <td>617</td>\n",
       "      <td>2017-05-21</td>\n",
       "      <td>Rajiv Gandhi International Stadium, Uppal</td>\n",
       "      <td>Mumbai Indians</td>\n",
       "      <td>Rising Pune Supergiant</td>\n",
       "      <td>KH Pandya</td>\n",
       "      <td>DT Christian</td>\n",
       "      <td>127</td>\n",
       "      <td>7</td>\n",
       "      <td>19.3</td>\n",
       "      <td>46</td>\n",
       "      <td>0</td>\n",
       "      <td>46</td>\n",
       "      <td>12</td>\n",
       "      <td>129</td>\n",
       "    </tr>\n",
       "    <tr>\n",
       "      <th>76011</th>\n",
       "      <td>617</td>\n",
       "      <td>2017-05-21</td>\n",
       "      <td>Rajiv Gandhi International Stadium, Uppal</td>\n",
       "      <td>Mumbai Indians</td>\n",
       "      <td>Rising Pune Supergiant</td>\n",
       "      <td>KH Pandya</td>\n",
       "      <td>DT Christian</td>\n",
       "      <td>128</td>\n",
       "      <td>7</td>\n",
       "      <td>19.4</td>\n",
       "      <td>47</td>\n",
       "      <td>0</td>\n",
       "      <td>47</td>\n",
       "      <td>12</td>\n",
       "      <td>129</td>\n",
       "    </tr>\n",
       "    <tr>\n",
       "      <th>76012</th>\n",
       "      <td>617</td>\n",
       "      <td>2017-05-21</td>\n",
       "      <td>Rajiv Gandhi International Stadium, Uppal</td>\n",
       "      <td>Mumbai Indians</td>\n",
       "      <td>Rising Pune Supergiant</td>\n",
       "      <td>MG Johnson</td>\n",
       "      <td>DT Christian</td>\n",
       "      <td>129</td>\n",
       "      <td>7</td>\n",
       "      <td>19.5</td>\n",
       "      <td>48</td>\n",
       "      <td>0</td>\n",
       "      <td>47</td>\n",
       "      <td>13</td>\n",
       "      <td>129</td>\n",
       "    </tr>\n",
       "    <tr>\n",
       "      <th>76013</th>\n",
       "      <td>617</td>\n",
       "      <td>2017-05-21</td>\n",
       "      <td>Rajiv Gandhi International Stadium, Uppal</td>\n",
       "      <td>Mumbai Indians</td>\n",
       "      <td>Rising Pune Supergiant</td>\n",
       "      <td>KH Pandya</td>\n",
       "      <td>DT Christian</td>\n",
       "      <td>129</td>\n",
       "      <td>8</td>\n",
       "      <td>19.6</td>\n",
       "      <td>47</td>\n",
       "      <td>1</td>\n",
       "      <td>47</td>\n",
       "      <td>13</td>\n",
       "      <td>129</td>\n",
       "    </tr>\n",
       "  </tbody>\n",
       "</table>\n",
       "<p>76014 rows × 15 columns</p>\n",
       "</div>"
      ],
      "text/plain": [
       "       mid        date                                      venue  \\\n",
       "0        1  2008-04-18                      M Chinnaswamy Stadium   \n",
       "1        1  2008-04-18                      M Chinnaswamy Stadium   \n",
       "2        1  2008-04-18                      M Chinnaswamy Stadium   \n",
       "3        1  2008-04-18                      M Chinnaswamy Stadium   \n",
       "4        1  2008-04-18                      M Chinnaswamy Stadium   \n",
       "...    ...         ...                                        ...   \n",
       "76009  617  2017-05-21  Rajiv Gandhi International Stadium, Uppal   \n",
       "76010  617  2017-05-21  Rajiv Gandhi International Stadium, Uppal   \n",
       "76011  617  2017-05-21  Rajiv Gandhi International Stadium, Uppal   \n",
       "76012  617  2017-05-21  Rajiv Gandhi International Stadium, Uppal   \n",
       "76013  617  2017-05-21  Rajiv Gandhi International Stadium, Uppal   \n",
       "\n",
       "                    bat_team                    bowl_team      batsman  \\\n",
       "0      Kolkata Knight Riders  Royal Challengers Bangalore   SC Ganguly   \n",
       "1      Kolkata Knight Riders  Royal Challengers Bangalore  BB McCullum   \n",
       "2      Kolkata Knight Riders  Royal Challengers Bangalore  BB McCullum   \n",
       "3      Kolkata Knight Riders  Royal Challengers Bangalore  BB McCullum   \n",
       "4      Kolkata Knight Riders  Royal Challengers Bangalore  BB McCullum   \n",
       "...                      ...                          ...          ...   \n",
       "76009         Mumbai Indians       Rising Pune Supergiant    KH Pandya   \n",
       "76010         Mumbai Indians       Rising Pune Supergiant    KH Pandya   \n",
       "76011         Mumbai Indians       Rising Pune Supergiant    KH Pandya   \n",
       "76012         Mumbai Indians       Rising Pune Supergiant   MG Johnson   \n",
       "76013         Mumbai Indians       Rising Pune Supergiant    KH Pandya   \n",
       "\n",
       "             bowler  runs  wickets  overs  runs_last_5  wickets_last_5  \\\n",
       "0           P Kumar     1        0    0.1            1               0   \n",
       "1           P Kumar     1        0    0.2            1               0   \n",
       "2           P Kumar     2        0    0.2            2               0   \n",
       "3           P Kumar     2        0    0.3            2               0   \n",
       "4           P Kumar     2        0    0.4            2               0   \n",
       "...             ...   ...      ...    ...          ...             ...   \n",
       "76009  DT Christian   121        7   19.2           40               0   \n",
       "76010  DT Christian   127        7   19.3           46               0   \n",
       "76011  DT Christian   128        7   19.4           47               0   \n",
       "76012  DT Christian   129        7   19.5           48               0   \n",
       "76013  DT Christian   129        8   19.6           47               1   \n",
       "\n",
       "       striker  non-striker  total  \n",
       "0            0            0    222  \n",
       "1            0            0    222  \n",
       "2            0            0    222  \n",
       "3            0            0    222  \n",
       "4            0            0    222  \n",
       "...        ...          ...    ...  \n",
       "76009       40           12    129  \n",
       "76010       46           12    129  \n",
       "76011       47           12    129  \n",
       "76012       47           13    129  \n",
       "76013       47           13    129  \n",
       "\n",
       "[76014 rows x 15 columns]"
      ]
     },
     "execution_count": 2,
     "metadata": {},
     "output_type": "execute_result"
    }
   ],
   "source": [
    "dt=pd.read_csv(\"ipl_data.csv\")\n",
    "dt"
   ]
  },
  {
   "cell_type": "code",
   "execution_count": 3,
   "id": "2cdca955",
   "metadata": {},
   "outputs": [
    {
     "data": {
      "text/html": [
       "<div>\n",
       "<style scoped>\n",
       "    .dataframe tbody tr th:only-of-type {\n",
       "        vertical-align: middle;\n",
       "    }\n",
       "\n",
       "    .dataframe tbody tr th {\n",
       "        vertical-align: top;\n",
       "    }\n",
       "\n",
       "    .dataframe thead th {\n",
       "        text-align: right;\n",
       "    }\n",
       "</style>\n",
       "<table border=\"1\" class=\"dataframe\">\n",
       "  <thead>\n",
       "    <tr style=\"text-align: right;\">\n",
       "      <th></th>\n",
       "      <th>mid</th>\n",
       "      <th>date</th>\n",
       "      <th>venue</th>\n",
       "      <th>bat_team</th>\n",
       "      <th>bowl_team</th>\n",
       "      <th>batsman</th>\n",
       "      <th>bowler</th>\n",
       "      <th>runs</th>\n",
       "      <th>wickets</th>\n",
       "      <th>overs</th>\n",
       "      <th>runs_last_5</th>\n",
       "      <th>wickets_last_5</th>\n",
       "      <th>striker</th>\n",
       "      <th>non-striker</th>\n",
       "      <th>total</th>\n",
       "    </tr>\n",
       "  </thead>\n",
       "  <tbody>\n",
       "    <tr>\n",
       "      <th>0</th>\n",
       "      <td>1</td>\n",
       "      <td>2008-04-18</td>\n",
       "      <td>M Chinnaswamy Stadium</td>\n",
       "      <td>Kolkata Knight Riders</td>\n",
       "      <td>Royal Challengers Bangalore</td>\n",
       "      <td>SC Ganguly</td>\n",
       "      <td>P Kumar</td>\n",
       "      <td>1</td>\n",
       "      <td>0</td>\n",
       "      <td>0.1</td>\n",
       "      <td>1</td>\n",
       "      <td>0</td>\n",
       "      <td>0</td>\n",
       "      <td>0</td>\n",
       "      <td>222</td>\n",
       "    </tr>\n",
       "    <tr>\n",
       "      <th>1</th>\n",
       "      <td>1</td>\n",
       "      <td>2008-04-18</td>\n",
       "      <td>M Chinnaswamy Stadium</td>\n",
       "      <td>Kolkata Knight Riders</td>\n",
       "      <td>Royal Challengers Bangalore</td>\n",
       "      <td>BB McCullum</td>\n",
       "      <td>P Kumar</td>\n",
       "      <td>1</td>\n",
       "      <td>0</td>\n",
       "      <td>0.2</td>\n",
       "      <td>1</td>\n",
       "      <td>0</td>\n",
       "      <td>0</td>\n",
       "      <td>0</td>\n",
       "      <td>222</td>\n",
       "    </tr>\n",
       "    <tr>\n",
       "      <th>2</th>\n",
       "      <td>1</td>\n",
       "      <td>2008-04-18</td>\n",
       "      <td>M Chinnaswamy Stadium</td>\n",
       "      <td>Kolkata Knight Riders</td>\n",
       "      <td>Royal Challengers Bangalore</td>\n",
       "      <td>BB McCullum</td>\n",
       "      <td>P Kumar</td>\n",
       "      <td>2</td>\n",
       "      <td>0</td>\n",
       "      <td>0.2</td>\n",
       "      <td>2</td>\n",
       "      <td>0</td>\n",
       "      <td>0</td>\n",
       "      <td>0</td>\n",
       "      <td>222</td>\n",
       "    </tr>\n",
       "    <tr>\n",
       "      <th>3</th>\n",
       "      <td>1</td>\n",
       "      <td>2008-04-18</td>\n",
       "      <td>M Chinnaswamy Stadium</td>\n",
       "      <td>Kolkata Knight Riders</td>\n",
       "      <td>Royal Challengers Bangalore</td>\n",
       "      <td>BB McCullum</td>\n",
       "      <td>P Kumar</td>\n",
       "      <td>2</td>\n",
       "      <td>0</td>\n",
       "      <td>0.3</td>\n",
       "      <td>2</td>\n",
       "      <td>0</td>\n",
       "      <td>0</td>\n",
       "      <td>0</td>\n",
       "      <td>222</td>\n",
       "    </tr>\n",
       "    <tr>\n",
       "      <th>4</th>\n",
       "      <td>1</td>\n",
       "      <td>2008-04-18</td>\n",
       "      <td>M Chinnaswamy Stadium</td>\n",
       "      <td>Kolkata Knight Riders</td>\n",
       "      <td>Royal Challengers Bangalore</td>\n",
       "      <td>BB McCullum</td>\n",
       "      <td>P Kumar</td>\n",
       "      <td>2</td>\n",
       "      <td>0</td>\n",
       "      <td>0.4</td>\n",
       "      <td>2</td>\n",
       "      <td>0</td>\n",
       "      <td>0</td>\n",
       "      <td>0</td>\n",
       "      <td>222</td>\n",
       "    </tr>\n",
       "  </tbody>\n",
       "</table>\n",
       "</div>"
      ],
      "text/plain": [
       "   mid        date                  venue               bat_team  \\\n",
       "0    1  2008-04-18  M Chinnaswamy Stadium  Kolkata Knight Riders   \n",
       "1    1  2008-04-18  M Chinnaswamy Stadium  Kolkata Knight Riders   \n",
       "2    1  2008-04-18  M Chinnaswamy Stadium  Kolkata Knight Riders   \n",
       "3    1  2008-04-18  M Chinnaswamy Stadium  Kolkata Knight Riders   \n",
       "4    1  2008-04-18  M Chinnaswamy Stadium  Kolkata Knight Riders   \n",
       "\n",
       "                     bowl_team      batsman   bowler  runs  wickets  overs  \\\n",
       "0  Royal Challengers Bangalore   SC Ganguly  P Kumar     1        0    0.1   \n",
       "1  Royal Challengers Bangalore  BB McCullum  P Kumar     1        0    0.2   \n",
       "2  Royal Challengers Bangalore  BB McCullum  P Kumar     2        0    0.2   \n",
       "3  Royal Challengers Bangalore  BB McCullum  P Kumar     2        0    0.3   \n",
       "4  Royal Challengers Bangalore  BB McCullum  P Kumar     2        0    0.4   \n",
       "\n",
       "   runs_last_5  wickets_last_5  striker  non-striker  total  \n",
       "0            1               0        0            0    222  \n",
       "1            1               0        0            0    222  \n",
       "2            2               0        0            0    222  \n",
       "3            2               0        0            0    222  \n",
       "4            2               0        0            0    222  "
      ]
     },
     "execution_count": 3,
     "metadata": {},
     "output_type": "execute_result"
    }
   ],
   "source": [
    "dt.head()"
   ]
  },
  {
   "cell_type": "raw",
   "id": "62227e20",
   "metadata": {},
   "source": [
    "Dropping unimportant features\n",
    "\n",
    "We have created a new dataframe by dropping several columns from the original DataFrame.\n",
    "The new DataFrame contains the remaining columns that we are going to train the predictive model."
   ]
  },
  {
   "cell_type": "code",
   "execution_count": 4,
   "id": "7378c6fa",
   "metadata": {},
   "outputs": [
    {
     "data": {
      "text/html": [
       "<div>\n",
       "<style scoped>\n",
       "    .dataframe tbody tr th:only-of-type {\n",
       "        vertical-align: middle;\n",
       "    }\n",
       "\n",
       "    .dataframe tbody tr th {\n",
       "        vertical-align: top;\n",
       "    }\n",
       "\n",
       "    .dataframe thead th {\n",
       "        text-align: right;\n",
       "    }\n",
       "</style>\n",
       "<table border=\"1\" class=\"dataframe\">\n",
       "  <thead>\n",
       "    <tr style=\"text-align: right;\">\n",
       "      <th></th>\n",
       "      <th>venue</th>\n",
       "      <th>bat_team</th>\n",
       "      <th>bowl_team</th>\n",
       "      <th>batsman</th>\n",
       "      <th>bowler</th>\n",
       "      <th>total</th>\n",
       "    </tr>\n",
       "  </thead>\n",
       "  <tbody>\n",
       "    <tr>\n",
       "      <th>0</th>\n",
       "      <td>M Chinnaswamy Stadium</td>\n",
       "      <td>Kolkata Knight Riders</td>\n",
       "      <td>Royal Challengers Bangalore</td>\n",
       "      <td>SC Ganguly</td>\n",
       "      <td>P Kumar</td>\n",
       "      <td>222</td>\n",
       "    </tr>\n",
       "    <tr>\n",
       "      <th>1</th>\n",
       "      <td>M Chinnaswamy Stadium</td>\n",
       "      <td>Kolkata Knight Riders</td>\n",
       "      <td>Royal Challengers Bangalore</td>\n",
       "      <td>BB McCullum</td>\n",
       "      <td>P Kumar</td>\n",
       "      <td>222</td>\n",
       "    </tr>\n",
       "    <tr>\n",
       "      <th>2</th>\n",
       "      <td>M Chinnaswamy Stadium</td>\n",
       "      <td>Kolkata Knight Riders</td>\n",
       "      <td>Royal Challengers Bangalore</td>\n",
       "      <td>BB McCullum</td>\n",
       "      <td>P Kumar</td>\n",
       "      <td>222</td>\n",
       "    </tr>\n",
       "    <tr>\n",
       "      <th>3</th>\n",
       "      <td>M Chinnaswamy Stadium</td>\n",
       "      <td>Kolkata Knight Riders</td>\n",
       "      <td>Royal Challengers Bangalore</td>\n",
       "      <td>BB McCullum</td>\n",
       "      <td>P Kumar</td>\n",
       "      <td>222</td>\n",
       "    </tr>\n",
       "    <tr>\n",
       "      <th>4</th>\n",
       "      <td>M Chinnaswamy Stadium</td>\n",
       "      <td>Kolkata Knight Riders</td>\n",
       "      <td>Royal Challengers Bangalore</td>\n",
       "      <td>BB McCullum</td>\n",
       "      <td>P Kumar</td>\n",
       "      <td>222</td>\n",
       "    </tr>\n",
       "    <tr>\n",
       "      <th>...</th>\n",
       "      <td>...</td>\n",
       "      <td>...</td>\n",
       "      <td>...</td>\n",
       "      <td>...</td>\n",
       "      <td>...</td>\n",
       "      <td>...</td>\n",
       "    </tr>\n",
       "    <tr>\n",
       "      <th>76009</th>\n",
       "      <td>Rajiv Gandhi International Stadium, Uppal</td>\n",
       "      <td>Mumbai Indians</td>\n",
       "      <td>Rising Pune Supergiant</td>\n",
       "      <td>KH Pandya</td>\n",
       "      <td>DT Christian</td>\n",
       "      <td>129</td>\n",
       "    </tr>\n",
       "    <tr>\n",
       "      <th>76010</th>\n",
       "      <td>Rajiv Gandhi International Stadium, Uppal</td>\n",
       "      <td>Mumbai Indians</td>\n",
       "      <td>Rising Pune Supergiant</td>\n",
       "      <td>KH Pandya</td>\n",
       "      <td>DT Christian</td>\n",
       "      <td>129</td>\n",
       "    </tr>\n",
       "    <tr>\n",
       "      <th>76011</th>\n",
       "      <td>Rajiv Gandhi International Stadium, Uppal</td>\n",
       "      <td>Mumbai Indians</td>\n",
       "      <td>Rising Pune Supergiant</td>\n",
       "      <td>KH Pandya</td>\n",
       "      <td>DT Christian</td>\n",
       "      <td>129</td>\n",
       "    </tr>\n",
       "    <tr>\n",
       "      <th>76012</th>\n",
       "      <td>Rajiv Gandhi International Stadium, Uppal</td>\n",
       "      <td>Mumbai Indians</td>\n",
       "      <td>Rising Pune Supergiant</td>\n",
       "      <td>MG Johnson</td>\n",
       "      <td>DT Christian</td>\n",
       "      <td>129</td>\n",
       "    </tr>\n",
       "    <tr>\n",
       "      <th>76013</th>\n",
       "      <td>Rajiv Gandhi International Stadium, Uppal</td>\n",
       "      <td>Mumbai Indians</td>\n",
       "      <td>Rising Pune Supergiant</td>\n",
       "      <td>KH Pandya</td>\n",
       "      <td>DT Christian</td>\n",
       "      <td>129</td>\n",
       "    </tr>\n",
       "  </tbody>\n",
       "</table>\n",
       "<p>76014 rows × 6 columns</p>\n",
       "</div>"
      ],
      "text/plain": [
       "                                           venue               bat_team  \\\n",
       "0                          M Chinnaswamy Stadium  Kolkata Knight Riders   \n",
       "1                          M Chinnaswamy Stadium  Kolkata Knight Riders   \n",
       "2                          M Chinnaswamy Stadium  Kolkata Knight Riders   \n",
       "3                          M Chinnaswamy Stadium  Kolkata Knight Riders   \n",
       "4                          M Chinnaswamy Stadium  Kolkata Knight Riders   \n",
       "...                                          ...                    ...   \n",
       "76009  Rajiv Gandhi International Stadium, Uppal         Mumbai Indians   \n",
       "76010  Rajiv Gandhi International Stadium, Uppal         Mumbai Indians   \n",
       "76011  Rajiv Gandhi International Stadium, Uppal         Mumbai Indians   \n",
       "76012  Rajiv Gandhi International Stadium, Uppal         Mumbai Indians   \n",
       "76013  Rajiv Gandhi International Stadium, Uppal         Mumbai Indians   \n",
       "\n",
       "                         bowl_team      batsman        bowler  total  \n",
       "0      Royal Challengers Bangalore   SC Ganguly       P Kumar    222  \n",
       "1      Royal Challengers Bangalore  BB McCullum       P Kumar    222  \n",
       "2      Royal Challengers Bangalore  BB McCullum       P Kumar    222  \n",
       "3      Royal Challengers Bangalore  BB McCullum       P Kumar    222  \n",
       "4      Royal Challengers Bangalore  BB McCullum       P Kumar    222  \n",
       "...                            ...          ...           ...    ...  \n",
       "76009       Rising Pune Supergiant    KH Pandya  DT Christian    129  \n",
       "76010       Rising Pune Supergiant    KH Pandya  DT Christian    129  \n",
       "76011       Rising Pune Supergiant    KH Pandya  DT Christian    129  \n",
       "76012       Rising Pune Supergiant   MG Johnson  DT Christian    129  \n",
       "76013       Rising Pune Supergiant    KH Pandya  DT Christian    129  \n",
       "\n",
       "[76014 rows x 6 columns]"
      ]
     },
     "execution_count": 4,
     "metadata": {},
     "output_type": "execute_result"
    }
   ],
   "source": [
    "df=dt.drop([\"date\",\"runs\",\"wickets\",\"overs\",\"runs_last_5\",\"wickets_last_5\",\"mid\",\"striker\",\"non-striker\"],axis=1)\n",
    "df"
   ]
  },
  {
   "cell_type": "raw",
   "id": "a0edd9d3",
   "metadata": {},
   "source": [
    "Label Encoding\n",
    "\n",
    "We have applied label encoding to your categorical features in X.\n",
    "We have created separate LabelEncoder objects for each categorical feature and encoded their values.\n",
    "We have created mappings to convert the encoded labels back to their original values, which can be helpful for interpreting the results."
   ]
  },
  {
   "cell_type": "code",
   "execution_count": 5,
   "id": "c4381949",
   "metadata": {},
   "outputs": [],
   "source": [
    "from sklearn.preprocessing import LabelEncoder"
   ]
  },
  {
   "cell_type": "code",
   "execution_count": 34,
   "id": "d9cee04c",
   "metadata": {},
   "outputs": [],
   "source": [
    "venue_encoder=LabelEncoder()\n",
    "df[\"bat_team\"]=venue_encoder.fit_transform(df[\"bat_team\"])"
   ]
  },
  {
   "cell_type": "code",
   "execution_count": 36,
   "id": "f33b7816",
   "metadata": {},
   "outputs": [],
   "source": [
    "batting_team_encoder=LabelEncoder()\n",
    "df[\"batsman\"]=batting_team_encoder.fit_transform(df[\"batsman\"])"
   ]
  },
  {
   "cell_type": "code",
   "execution_count": 37,
   "id": "cdd31d9c",
   "metadata": {},
   "outputs": [],
   "source": [
    "bowling_team_encoder=LabelEncoder()\n",
    "df[\"bowl_team\"]=bowling_team_encoder.fit_transform(df[\"bowl_team\"])"
   ]
  },
  {
   "cell_type": "code",
   "execution_count": 39,
   "id": "b7ea0154",
   "metadata": {},
   "outputs": [],
   "source": [
    "striker_encoder=LabelEncoder()\n",
    "df[\"bowler\"]=striker_encoder.fit_transform(df[\"bowler\"])"
   ]
  },
  {
   "cell_type": "code",
   "execution_count": 47,
   "id": "6a526dfa",
   "metadata": {},
   "outputs": [],
   "source": [
    "bowling_encoder=LabelEncoder()\n",
    "df[\"venue\"]=bowling_encoder.fit_transform(df[\"venue\"])"
   ]
  },
  {
   "cell_type": "code",
   "execution_count": 48,
   "id": "a6d64d4b",
   "metadata": {},
   "outputs": [],
   "source": [
    "# assining x & Y"
   ]
  },
  {
   "cell_type": "raw",
   "id": "e95b8582",
   "metadata": {},
   "source": [
    "Further Pre-Processing\n",
    "\n",
    "We have split the data frame into input features (X) and target features (y). Our target features is the total score."
   ]
  },
  {
   "cell_type": "code",
   "execution_count": 49,
   "id": "9914c8d0",
   "metadata": {},
   "outputs": [],
   "source": [
    "X=df.drop([\"total\"],axis=1)"
   ]
  },
  {
   "cell_type": "code",
   "execution_count": 50,
   "id": "ee835c41",
   "metadata": {},
   "outputs": [],
   "source": [
    "Y=df[\"total\"]"
   ]
  },
  {
   "cell_type": "markdown",
   "id": "0bc5660c",
   "metadata": {},
   "source": [
    "Train Test Split\n",
    "\n",
    "We have split the data into training and testing sets. The training set contains 70 percent of the dataset and rest 30 percent is in test set.\n",
    "X_train contains the training data for your input features.\n",
    "X_test contains the testing data for your input features.\n",
    "y_train contains the training data for your target variable.\n",
    "y_test contains the testing data for your target variable."
   ]
  },
  {
   "cell_type": "code",
   "execution_count": 51,
   "id": "f2222bc6",
   "metadata": {},
   "outputs": [],
   "source": [
    "from sklearn.model_selection import train_test_split"
   ]
  },
  {
   "cell_type": "code",
   "execution_count": 52,
   "id": "f9ad6870",
   "metadata": {},
   "outputs": [],
   "source": [
    "xtrain,xtest,ytrain,ytest=train_test_split(X,Y)"
   ]
  },
  {
   "cell_type": "raw",
   "id": "839a6d27",
   "metadata": {},
   "source": [
    "Feature Scaling\n",
    "\n",
    "We have performed Min-Max scaling on our input features to ensure all the features are on the same scale\n",
    "Scaling is performed to ensure consistent scale to improve model performance.\n",
    "Scaling has transformed both training and testing data using the scaling parameters."
   ]
  },
  {
   "cell_type": "code",
   "execution_count": 53,
   "id": "02e9d9c6",
   "metadata": {},
   "outputs": [],
   "source": [
    "from sklearn.preprocessing import MinMaxScaler"
   ]
  },
  {
   "cell_type": "code",
   "execution_count": 54,
   "id": "d0aeef67",
   "metadata": {},
   "outputs": [],
   "source": [
    "scaler=MinMaxScaler()"
   ]
  },
  {
   "cell_type": "code",
   "execution_count": 55,
   "id": "dd48a428",
   "metadata": {},
   "outputs": [],
   "source": [
    "xtrain_scaler=scaler.fit_transform(xtrain)"
   ]
  },
  {
   "cell_type": "code",
   "execution_count": 56,
   "id": "7aa78a54",
   "metadata": {},
   "outputs": [],
   "source": [
    "xtest_scaler=scaler.fit_transform(xtest)"
   ]
  },
  {
   "cell_type": "code",
   "execution_count": 57,
   "id": "ed7724f5",
   "metadata": {},
   "outputs": [
    {
     "data": {
      "text/plain": [
       "(76014, 5)"
      ]
     },
     "execution_count": 57,
     "metadata": {},
     "output_type": "execute_result"
    }
   ],
   "source": [
    "X.shape"
   ]
  },
  {
   "cell_type": "code",
   "execution_count": 58,
   "id": "4461a709",
   "metadata": {},
   "outputs": [],
   "source": [
    "import torch as th\n",
    "import torch.nn as nn\n",
    "import torch.optim as op"
   ]
  },
  {
   "cell_type": "code",
   "execution_count": 59,
   "id": "2819fc3f",
   "metadata": {},
   "outputs": [],
   "source": [
    "# Example dimensions (set according to your data)\n",
    "input_size = xtrain_scaler.shape[1]\n",
    "hidden_size = 128\n",
    "output_size = 1  # For regression, use the appropriate size for classification"
   ]
  },
  {
   "cell_type": "code",
   "execution_count": 60,
   "id": "7db36369",
   "metadata": {},
   "outputs": [],
   "source": [
    "class Neuralnetwork(nn.Module):\n",
    "    def __init__(self,input_dim,hidden_size,output_size):\n",
    "        super(Neuralnetwork,self).__init__()\n",
    "        \n",
    "        self.fc1=nn.Linear(input_size,hidden_size)\n",
    "        self.act1=nn.ReLU()\n",
    "        self.fc2=nn.Linear(hidden_size,hidden_size)\n",
    "        self.act2=nn.ReLU()\n",
    "        self.fc3=nn.Linear(hidden_size,1)\n",
    "        \n",
    "    def forward(self,x):\n",
    "        x=self.act1(self.fc1(x))\n",
    "        x=self.act2(self.fc2(x))\n",
    "        return x"
   ]
  },
  {
   "cell_type": "code",
   "execution_count": 61,
   "id": "42a09d23",
   "metadata": {},
   "outputs": [
    {
     "data": {
      "text/plain": [
       "Neuralnetwork(\n",
       "  (fc1): Linear(in_features=5, out_features=128, bias=True)\n",
       "  (act1): ReLU()\n",
       "  (fc2): Linear(in_features=128, out_features=128, bias=True)\n",
       "  (act2): ReLU()\n",
       "  (fc3): Linear(in_features=128, out_features=1, bias=True)\n",
       ")"
      ]
     },
     "execution_count": 61,
     "metadata": {},
     "output_type": "execute_result"
    }
   ],
   "source": [
    "mdl=Neuralnetwork(input_size,hidden_size,output_size)\n",
    "mdl"
   ]
  },
  {
   "cell_type": "code",
   "execution_count": 62,
   "id": "0bf68771",
   "metadata": {},
   "outputs": [],
   "source": [
    "# Define the optimizer\n",
    "criterion=nn.MSELoss()\n",
    "optimizer = op.Adam(mdl.parameters(),lr=0.001)"
   ]
  },
  {
   "cell_type": "code",
   "execution_count": 63,
   "id": "0a1505ea",
   "metadata": {},
   "outputs": [],
   "source": [
    "# Ensure your data is in numpy array format\n",
    "X_train_np = xtrain_scaler.values if isinstance(xtrain_scaler, pd.DataFrame) else xtrain_scaler\n",
    "y_train_np = ytrain.values if isinstance(ytrain, pd.Series) else ytrain\n",
    "X_test_np = xtest_scaler.values if isinstance(xtest_scaler, pd.DataFrame) else xtest_scaler\n",
    "y_test_np = ytest.values if isinstance(ytest, pd.Series) else ytest"
   ]
  },
  {
   "cell_type": "code",
   "execution_count": 64,
   "id": "64d6909c",
   "metadata": {},
   "outputs": [],
   "source": [
    "# Convert numpy arrays to PyTorch tensors\n",
    "X_train_tensor = th.tensor(X_train_np, dtype=th.float32)\n",
    "y_train_tensor = th.tensor(y_train_np, dtype=th.float32).view(-1, 1)\n",
    "X_test_tensor = th.tensor(X_test_np, dtype=th.float32)\n",
    "y_test_tensor = th.tensor(y_test_np, dtype=th.float32).view(-1, 1)\n",
    "\n",
    "# Create TensorDatasets\n",
    "train_dataset = th.utils.data.TensorDataset(X_train_tensor, y_train_tensor)\n",
    "test_dataset = th.utils.data.TensorDataset(X_test_tensor, y_test_tensor)\n",
    "\n",
    "# Create DataLoaders\n",
    "train_loader = th.utils.data.DataLoader(train_dataset, batch_size=64, shuffle=True)\n",
    "test_loader = th.utils.data.DataLoader(test_dataset, batch_size=64, shuffle=False)"
   ]
  },
  {
   "cell_type": "code",
   "execution_count": 65,
   "id": "95a9ab61",
   "metadata": {
    "scrolled": true
   },
   "outputs": [
    {
     "name": "stdout",
     "output_type": "stream",
     "text": [
      "Epoch 1/20, Training Loss: 9189274.110839844, Validation Loss: 4204.409511784512\n",
      "Epoch 2/20, Training Loss: 3678280.0041503906, Validation Loss: 4013.1904864070393\n",
      "Epoch 3/20, Training Loss: 3481561.6206054688, Validation Loss: 3783.0013719552294\n",
      "Epoch 4/20, Training Loss: 3276032.3928222656, Validation Loss: 3584.366044888994\n",
      "Epoch 5/20, Training Loss: 3141214.470703125, Validation Loss: 3501.2805447048613\n",
      "Epoch 6/20, Training Loss: 3103571.5368652344, Validation Loss: 3491.3943446509365\n",
      "Epoch 7/20, Training Loss: 3099364.662841797, Validation Loss: 3491.1590358335966\n",
      "Epoch 8/20, Training Loss: 3099191.587890625, Validation Loss: 3492.297797309028\n",
      "Epoch 9/20, Training Loss: 3099626.1416015625, Validation Loss: 3491.620972912721\n",
      "Epoch 10/20, Training Loss: 3099592.3881835938, Validation Loss: 3491.368135291719\n",
      "Epoch 11/20, Training Loss: 3099509.0705566406, Validation Loss: 3491.195241806082\n",
      "Epoch 12/20, Training Loss: 3099424.6208496094, Validation Loss: 3491.1419081768204\n",
      "Epoch 13/20, Training Loss: 3099750.9013671875, Validation Loss: 3491.3962681831335\n",
      "Epoch 14/20, Training Loss: 3099628.241455078, Validation Loss: 3490.7375266335225\n",
      "Epoch 15/20, Training Loss: 3099623.0920410156, Validation Loss: 3491.6105685763887\n",
      "Epoch 16/20, Training Loss: 3099760.379638672, Validation Loss: 3492.385017163826\n",
      "Epoch 17/20, Training Loss: 3099664.7053222656, Validation Loss: 3491.0476838699497\n",
      "Epoch 18/20, Training Loss: 3099662.9587402344, Validation Loss: 3494.1312498355956\n",
      "Epoch 19/20, Training Loss: 3099528.0739746094, Validation Loss: 3491.059285892782\n",
      "Epoch 20/20, Training Loss: 3099593.9345703125, Validation Loss: 3491.471985479798\n"
     ]
    }
   ],
   "source": [
    "# Train the model\n",
    "num_epochs = 20\n",
    "training_losses = []\n",
    "validation_losses = []\n",
    "\n",
    "for epoch in range(num_epochs):\n",
    "    epoch_train_loss=0\n",
    "    mdl.train()  # Set the model to training model\n",
    "    for inputs, targets in train_loader:\n",
    "        output = mdl(inputs)  # Forward pass\n",
    "        loss = criterion(output, targets)  # Compute loss\n",
    "        optimizer.zero_grad()  # Zero the parameter gradients\n",
    "        loss.backward()  # Backward pass\n",
    "        optimizer.step()  # Update weights\n",
    "        epoch_train_loss +=loss.item()\n",
    "        \n",
    "    # Validation phase\n",
    "    mdl.eval()  # Set the model to evaluation mode\n",
    "    epoch_val_loss = 0\n",
    "    with th.no_grad():\n",
    "        for inputs, targets in test_loader:\n",
    "            outputs = mdl(inputs)\n",
    "            loss = criterion(outputs, targets)\n",
    "            epoch_val_loss += loss.item()\n",
    "    \n",
    "    epoch_val_loss /= len(test_loader)\n",
    "    validation_losses.append(epoch_val_loss)\n",
    "\n",
    "    print(f'Epoch {epoch+1}/{num_epochs}, Training Loss: {epoch_train_loss}, Validation Loss: {epoch_val_loss}')"
   ]
  },
  {
   "cell_type": "raw",
   "id": "43c3623e",
   "metadata": {},
   "source": [
    "After the training, we have stored the training and validation loss values to our neural network during the training process."
   ]
  },
  {
   "cell_type": "raw",
   "id": "2c891b63",
   "metadata": {},
   "source": [
    "Model Evaluation\n",
    "\n",
    "We have predicted using the trained neural network on the testing data.\n",
    "The variable predictions contains the predicted total run scores for the test set based on the model’s learned patterns."
   ]
  },
  {
   "cell_type": "code",
   "execution_count": 66,
   "id": "de300363",
   "metadata": {},
   "outputs": [
    {
     "name": "stdout",
     "output_type": "stream",
     "text": [
      "prediction_value: [157.78783 157.79259 157.8044  ... 158.85875 158.89833 158.88237]\n"
     ]
    }
   ],
   "source": [
    "# Disable gradient calculation for inference\n",
    "with th.no_grad():\n",
    "    predcitons=[]\n",
    "    for inputs,target in test_loader:\n",
    "        inputs=inputs[0]\n",
    "        outputs=mdl(inputs)\n",
    "        predcitons.extend(outputs.numpy())\n",
    "#         print(\"predictions:\",predcitons)\n",
    "        \n",
    "#convert predcitons list to numpy array if needed\n",
    "prediction=np.array(predcitons)\n",
    "print(\"prediction_value:\",prediction)"
   ]
  },
  {
   "cell_type": "raw",
   "id": "8ed2fc93",
   "metadata": {},
   "source": [
    " Let’s create an Interactive Widgets\n",
    "We have created an interactive widget using ipywidgets to predict the score based on user input for venue, batting team, bowling team, striker, and bowler.\n",
    "We have created dropdown widgets to select values for venue, batting team, bowling team, striker, and bowler.\n",
    "Then, we have added a “Predicted Score” button widget. Whenever, the button will be clicked, the predict_score function will be called and then perform the following steps:\n",
    "Decodes the user-selected values to their original categorical values.\n",
    "Encodes and scales these values to match the format used in model training.\n",
    "Uses the trained model to make a prediction based on the user’s input.\n",
    "Displays the predicted score."
   ]
  },
  {
   "cell_type": "code",
   "execution_count": 67,
   "id": "dafcec24",
   "metadata": {},
   "outputs": [],
   "source": [
    "import ipywidgets as widgets\n",
    "from IPython.display import display,clear_output"
   ]
  },
  {
   "cell_type": "code",
   "execution_count": 68,
   "id": "256453b9",
   "metadata": {},
   "outputs": [],
   "source": [
    "import warnings as wn\n",
    "wn.filterwarnings(\"ignore\")"
   ]
  },
  {
   "cell_type": "code",
   "execution_count": 77,
   "id": "6a655b4f",
   "metadata": {},
   "outputs": [],
   "source": [
    "venue = widgets.Dropdown(options=df[\"venue\"].unique().tolist(),description=\"Select Venue:\")\n",
    "batting_team = widgets.Dropdown(options=df[\"bat_team\"].unique().tolist(),description=\"Select Batting Team:\")\n",
    "bowling_team = widgets.Dropdown(options=df[\"bowl_team\"].unique().tolist(),description=\"Select Bowling Team:\")\n",
    "striker = widgets.Dropdown(options=df[\"batsman\"].unique().tolist(),description=\"Select Striker:\")\n",
    "bowler = widgets.Dropdown(options=df[\"bowler\"].unique().tolist(),description=\"Select Bowler:\")\n",
    "\n",
    "predict_button = widgets.Button(description=\"Predict Score\") \n",
    "\n",
    "def predict_score(b):\n",
    "    with output:\n",
    "        clear_output() #clear the previous output\n",
    "        \n",
    "        # Check if the provided labels are in the fitted encoders\n",
    "        if venue not in venue_encoder.classes_:\n",
    "            raise ValueError(f\"Venue '{venue}' is not recognized. Available venues: {venue_encoder.classes_}\")\n",
    "        if batting_team not in batting_team_encoder.classes_:\n",
    "            raise ValueError(f\"Batting team '{batting_team}' is not recognized. Available batting teams: {batting_team_encoder.classes_}\")\n",
    "        if bowling_team not in bowling_team_encoder.classes_:\n",
    "            raise ValueError(f\"Bowling team '{bowling_team}' is not recognized. Available bowling teams: {bowling_team_encoder.classes_}\")\n",
    "        if striker not in striker_encoder.classes_:\n",
    "            raise ValueError(f\"striker  '{striker}' is not recognized. Available batting teams: {striker_encoder.classes_}\")\n",
    "        if bowler not in bowling_encoder.classes_:\n",
    "            raise ValueError(f\"Bowling  '{bowler}' is not recognized. Available bowling teams: {bowling_encoder.classes_}\")\n",
    "        \n",
    "            \n",
    "        \n",
    "        #decode the encoded values back to their orgiginal values\n",
    "        decoded_venue = venue_encoder.transform([venue.value])\n",
    "        decoded_batting_team = batting_team_enocder.transform([batting_team.value])\n",
    "        decoded_bowling_team = bowling_team_enocder.transform([bowling_team.value])\n",
    "        decoded_striker = striker_encoder.transform([striker.value])\n",
    "        decoder_bowler = bowling_encoder.transform([bowler.value])\n",
    "        \n",
    "        inputs = np.array([decoded_venue,decoded_batting_team,decoded_bowling_team,decoded_striker,decoder_bowler])\n",
    "        inputs = inputs.reshape(1,5)\n",
    "        inputs = scaler.transform(inputs)\n",
    "        #print_inputs\n",
    "        predicted_score = mdl.parameters(inputs)\n",
    "        predicted_score = int(predicted_score[0,0])\n",
    "        \n",
    "        print(predicted_score)"
   ]
  },
  {
   "cell_type": "raw",
   "id": "34a6ef52",
   "metadata": {},
   "source": [
    "The widget-based interface allows you to interactively predict the score for specific match scenarios. Now, we have set up the button to trigger the predict_score function when clicked and display the widgets for venue, batting team , bowling team, striker and bowler."
   ]
  },
  {
   "cell_type": "code",
   "execution_count": 80,
   "id": "4a0f1c95",
   "metadata": {},
   "outputs": [
    {
     "data": {
      "application/vnd.jupyter.widget-view+json": {
       "model_id": "7d6005cd0865447ca9a631dc4b73f230",
       "version_major": 2,
       "version_minor": 0
      },
      "text/plain": [
       "Dropdown(description='Select Venue:', options=(14, 22, 8, 34, 7, 26, 23, 15, 4, 19, 30, 13, 32, 2, 18, 3, 20, …"
      ]
     },
     "metadata": {},
     "output_type": "display_data"
    },
    {
     "data": {
      "application/vnd.jupyter.widget-view+json": {
       "model_id": "6356ad307ee6429b87310d1d23ac922e",
       "version_major": 2,
       "version_minor": 0
      },
      "text/plain": [
       "Dropdown(description='Select Batting Team:', index=1, options=(6, 0, 9, 7, 1, 4, 12, 2, 5, 8, 13, 11, 3, 10), …"
      ]
     },
     "metadata": {},
     "output_type": "display_data"
    },
    {
     "data": {
      "application/vnd.jupyter.widget-view+json": {
       "model_id": "12e6ac929d75449d82ee5cafe5984a87",
       "version_major": 2,
       "version_minor": 0
      },
      "text/plain": [
       "Dropdown(description='Select Bowling Team:', index=3, options=(12, 4, 2, 6, 9, 7, 0, 1, 8, 5, 13, 11, 3, 10), …"
      ]
     },
     "metadata": {},
     "output_type": "display_data"
    },
    {
     "data": {
      "application/vnd.jupyter.widget-view+json": {
       "model_id": "00670ffd5316459aac6e0e3717b30cda",
       "version_major": 2,
       "version_minor": 0
      },
      "text/plain": [
       "Dropdown(description='Select Striker:', index=9, options=(328, 61, 303, 101, 238, 258, 222, 213, 230, 332, 152…"
      ]
     },
     "metadata": {},
     "output_type": "display_data"
    },
    {
     "data": {
      "application/vnd.jupyter.widget-view+json": {
       "model_id": "bee630e0d1cf4c548aab3a004b0f9e92",
       "version_major": 2,
       "version_minor": 0
      },
      "text/plain": [
       "Dropdown(description='Select Bowler:', index=15, options=(201, 328, 15, 128, 262, 71, 48, 255, 135, 113, 139, …"
      ]
     },
     "metadata": {},
     "output_type": "display_data"
    },
    {
     "data": {
      "application/vnd.jupyter.widget-view+json": {
       "model_id": "ba47daaa1c24478bbb13682a5a202ef2",
       "version_major": 2,
       "version_minor": 0
      },
      "text/plain": [
       "Button(description='Predict Score', style=ButtonStyle())"
      ]
     },
     "metadata": {},
     "output_type": "display_data"
    },
    {
     "data": {
      "application/vnd.jupyter.widget-view+json": {
       "model_id": "ea26b00a283c4bafaefba5383c9511d1",
       "version_major": 2,
       "version_minor": 0
      },
      "text/plain": [
       "Output()"
      ]
     },
     "metadata": {},
     "output_type": "display_data"
    }
   ],
   "source": [
    "predict_button.on_click(predict_score)\n",
    "output = widgets.Output()\n",
    "display(venue,batting_team,bowling_team,striker,bowler,predict_button,output)"
   ]
  },
  {
   "cell_type": "markdown",
   "id": "4666cfa0",
   "metadata": {},
   "source": [
    "By harnessing the power of ML and DL, we have successfully predicted the cricket scores based on historical data. The model’s ability to predict cricket scores can be a valuable asset for IPL enthusiasts, teams, and analysts. It can provide insights into the dynamics of a match and help anticipate how different factors impact the final score.\n",
    "\n"
   ]
  }
 ],
 "metadata": {
  "kernelspec": {
   "display_name": "Python 3 (ipykernel)",
   "language": "python",
   "name": "python3"
  },
  "language_info": {
   "codemirror_mode": {
    "name": "ipython",
    "version": 3
   },
   "file_extension": ".py",
   "mimetype": "text/x-python",
   "name": "python",
   "nbconvert_exporter": "python",
   "pygments_lexer": "ipython3",
   "version": "3.11.3"
  }
 },
 "nbformat": 4,
 "nbformat_minor": 5
}
